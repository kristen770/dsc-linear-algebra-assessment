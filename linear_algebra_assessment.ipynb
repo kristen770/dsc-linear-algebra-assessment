{
 "cells": [
  {
   "cell_type": "markdown",
   "metadata": {},
   "source": [
    "# Assessments\n",
    "YW\n",
    "* write a function to find the mean of a list of numbers\n",
    "* write a function that calculates a dot product\n",
    "* write a function that centers an array on the mean \n",
    "* write a function to calculate the standard deviation of a list of a numbers (preferably using a dot product)\n",
    "* write a function to calculate the correlation and covariance of two lists\n",
    "* write a function to calculate the cost between ytrue and ypred"
   ]
  },
  {
   "cell_type": "code",
   "execution_count": 2,
   "metadata": {},
   "outputs": [],
   "source": [
    "def mean_center(lst1):\n",
    "    \"\"\"\n",
    "    write a function that takes in a list\n",
    "    and returns that list but centered on the mean\n",
    "    \n",
    "    in other words x -> (x - mu)\n",
    "    \"\"\"\n",
    "    return (sum(lst1) - max(lst1) - min(lst1)) / (len(lst1) - 2)\n",
    "\n",
    "\n",
    "def dot_product(lst1, lst2):\n",
    "    \"\"\"\n",
    "    write a function that takes in a list \n",
    "    of numbers and returns their dot product\n",
    "    \"\"\"\n",
    "    return sum(lst1_i * lst2_i for lst1_i, lst2_i in zip(lst1, lst2))"
   ]
  },
  {
   "cell_type": "markdown",
   "metadata": {},
   "source": [
    "# Standard Deviation Formula\n",
    "![](images/standard-deviation.png)"
   ]
  },
  {
   "cell_type": "code",
   "execution_count": 5,
   "metadata": {},
   "outputs": [],
   "source": [
    "def standard_deviation(lst1):\n",
    "    \"\"\"\n",
    "    write a function that takes in a list\n",
    "    of numbers and returns its standard deviation\n",
    "    \"\"\" \n",
    "    mean = float(sum(lst1))/len(lst1)\n",
    "    return sum((lst1_i - mean)**2 for list1_i in lst1)**0.5"
   ]
  },
  {
   "cell_type": "markdown",
   "metadata": {},
   "source": [
    "# Covariance Formula\n",
    "![](images/covariance.png)"
   ]
  },
  {
   "cell_type": "code",
   "execution_count": 6,
   "metadata": {},
   "outputs": [],
   "source": [
    "def covariance(lst1, lst2):\n",
    "    \"\"\"\n",
    "    write an function that takes in two lists\n",
    "    of numbers and returns their covariance\n",
    "    \"\"\"\n",
    "    if len(lst1) != len(lst2): \n",
    "        pass \n",
    "    else: \n",
    "        lst1_mean = sum(lst1) / len(lst1)\n",
    "        lst2_mean = sum(lst2) / len(lst2)\n",
    "        sum = 0  \n",
    "        n = len(lst1) + len(lst2)\n",
    "        for i in range (0, len(lst1)): \n",
    "            sum += ((lst1[i] - lst1_mean) * (lst2[i] - lst2_mean)) \n",
    "    return sum / n\n",
    "    "
   ]
  },
  {
   "cell_type": "markdown",
   "metadata": {},
   "source": [
    "# Correlation Formula\n",
    "![](images/correlation.png)"
   ]
  },
  {
   "cell_type": "code",
   "execution_count": 7,
   "metadata": {},
   "outputs": [],
   "source": [
    "def correlation(lst1, lst2):\n",
    "    \"\"\"\n",
    "    write an function that takes in two lists \n",
    "    of numbers and returns their correlation\n",
    "    \"\"\"\n",
    "    lst1_mean = sum(lst1) / len(lst1)\n",
    "    lst2_mean = sum(lst2) / len(lst2)\n",
    "    numerator = 0\n",
    "    for i in range (0, len(lst1)): \n",
    "        numerator += ((lst1[i] - lst1_mean) * (lst2[i] - lst2_mean))  \n",
    "    lst1_denomenator = ((lst1[i] - lst1_mean)**2 for i in lst1) \n",
    "    lst2_denomenator= ((lst2[i] - lst2_mean)**2 for i in lst2) \n",
    "    denomenator = (lst1_denomentator * lst2_denomenator) ** 0.5 \n",
    "    correlation = numerator / denomenator\n",
    "    "
   ]
  },
  {
   "cell_type": "markdown",
   "metadata": {},
   "source": [
    "# RMSE Formula\n",
    "![](images/rmse.png)"
   ]
  },
  {
   "cell_type": "code",
   "execution_count": 9,
   "metadata": {},
   "outputs": [],
   "source": [
    "def rmse(ytrue, ypred):\n",
    "    \"\"\"\n",
    "    write a function that takes in ytrue and ypred\n",
    "    and returns their root mean squared error\n",
    "    \"\"\"\n",
    "    summation = 0 \n",
    "    n = len(ytrue)\n",
    "    for i in range(0, n): \n",
    "        difference = ytrue[i] - ypred[i]\n",
    "        diff_sqrd = difference **2 \n",
    "        summation = summation + diff_srd\n",
    "    return summation/n "
   ]
  },
  {
   "cell_type": "markdown",
   "metadata": {},
   "source": [
    "# RSS Formula \n",
    "![](images/rss.png)"
   ]
  },
  {
   "cell_type": "code",
   "execution_count": 10,
   "metadata": {},
   "outputs": [],
   "source": [
    "def rss(ytrue, ypred):\n",
    "    \"\"\"\n",
    "    write a function that takes in ytrue and ypred\n",
    "    and returns their rss\n",
    "    \"\"\"\n",
    "    summation = 0 \n",
    "    for i in range(0, len(ytrue)): \n",
    "        diff = difference = ytrue[i] - ypred[i]\n",
    "        diff_sqrd = difference **2 \n",
    "        summation = summation + diff_srd \n",
    "    return summation "
   ]
  },
  {
   "cell_type": "code",
   "execution_count": 3,
   "metadata": {},
   "outputs": [
    {
     "ename": "ModuleNotFoundError",
     "evalue": "No module named 'theano'",
     "output_type": "error",
     "traceback": [
      "\u001b[0;31m---------------------------------------------------------------------------\u001b[0m",
      "\u001b[0;31mModuleNotFoundError\u001b[0m                       Traceback (most recent call last)",
      "\u001b[0;32m<ipython-input-3-e2d3ee711e72>\u001b[0m in \u001b[0;36m<module>\u001b[0;34m\u001b[0m\n\u001b[0;32m----> 1\u001b[0;31m \u001b[0;32mimport\u001b[0m \u001b[0mtheano\u001b[0m\u001b[0;34m\u001b[0m\u001b[0;34m\u001b[0m\u001b[0m\n\u001b[0m",
      "\u001b[0;31mModuleNotFoundError\u001b[0m: No module named 'theano'"
     ]
    }
   ],
   "source": [
    "import theano"
   ]
  },
  {
   "cell_type": "code",
   "execution_count": null,
   "metadata": {},
   "outputs": [],
   "source": []
  }
 ],
 "metadata": {
  "kernelspec": {
   "display_name": "Python 3",
   "language": "python",
   "name": "python3"
  },
  "language_info": {
   "codemirror_mode": {
    "name": "ipython",
    "version": 3
   },
   "file_extension": ".py",
   "mimetype": "text/x-python",
   "name": "python",
   "nbconvert_exporter": "python",
   "pygments_lexer": "ipython3",
   "version": "3.8.3"
  }
 },
 "nbformat": 4,
 "nbformat_minor": 4
}
